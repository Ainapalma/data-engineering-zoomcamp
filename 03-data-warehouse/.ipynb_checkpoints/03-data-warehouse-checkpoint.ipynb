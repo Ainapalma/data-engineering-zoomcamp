{
 "cells": [
  {
   "cell_type": "markdown",
   "id": "75fc8aaa",
   "metadata": {},
   "source": [
    "## Question 1\n",
    "\n",
    "What is count of records for the 2024 Yellow Taxi Data?\n",
    "\n",
    "- 65,623\n",
    "- 840,402\n",
    "- **20,332,093**\n",
    "- 85,431,289"
   ]
  },
  {
   "cell_type": "code",
   "execution_count": null,
   "id": "add3911f",
   "metadata": {},
   "outputs": [],
   "source": [
    "## Answer\n",
    "\n",
    "CREATE OR REPLACE EXTERNAL TABLE `zoomcamp.yellow_trip_data`\n",
    "OPTIONS (\n",
    "  format = 'PARQUET',\n",
    "  uris = ['gs://de-zoomcamp-ainapalma/yellow_tripdata_2024-*.parquet']\n",
    ");\n",
    "\n",
    "SELECT count(*) -- 20 332 093\n",
    "FROM zoomcamp.yellow_trip_data;"
   ]
  },
  {
   "cell_type": "markdown",
   "id": "c4fa2393",
   "metadata": {},
   "source": [
    "## Question 2\n",
    "\n",
    "Write a query to count the distinct number of PULocationIDs for the entire dataset on both the tables.\n",
    "What is the estimated amount of data that will be read when this query is executed on the External Table and the Table?\n",
    "\n",
    "- 18.82 MB for the External Table and 47.60 MB for the Materialized Table\n",
    "- **0 MB for the External Table and 155.12 MB for the Materialized Table**\n",
    "- 2.14 GB for the External Table and 0MB for the Materialized Table\n",
    "- 0 MB for the External Table and 0MB for the Materialized Table"
   ]
  },
  {
   "cell_type": "code",
   "execution_count": null,
   "id": "8bbb1c62",
   "metadata": {},
   "outputs": [],
   "source": [
    "## Answer\n",
    "\n",
    "CREATE OR REPLACE TABLE `zoomcamp.yellow_trip_data_regular`\n",
    "AS SELECT * FROM `zoomcamp.yellow_trip_data`\n",
    "\n",
    "-- This query will process 0 B when run.\n",
    "SELECT COUNT(distinct PULocationID) \n",
    "FROM zoomcamp.yellow_trip_data;\n",
    "\n",
    "-- This query will process 155.12 MB when run.\n",
    "SELECT COUNT(distinct PULocationID) \n",
    "FROM zoomcamp.yellow_trip_data_regular"
   ]
  },
  {
   "cell_type": "markdown",
   "id": "ac59ffb1",
   "metadata": {},
   "source": [
    "## Question 3\n",
    "\n",
    "Write a query to retrieve the PULocationID from the table (not the external table) in BigQuery. Now write a query to retrieve the PULocationID and DOLocationID on the same table. Why are the estimated number of Bytes different?\n",
    "\n",
    "- **BigQuery is a columnar database, and it only scans the specific columns requested in the query. Querying two columns (PULocationID, DOLocationID) requires reading more data than querying one column (PULocationID), leading to a higher estimated number of bytes processed.**\n",
    "- BigQuery duplicates data across multiple storage partitions, so selecting two columns instead of one requires scanning the table twice, doubling the estimated bytes processed.\n",
    "- BigQuery automatically caches the first queried column, so adding a second column increases processing time but does not affect the estimated bytes scanned.\n",
    "- When selecting multiple columns, BigQuery performs an implicit join operation between them, increasing the estimated bytes processed\n"
   ]
  },
  {
   "cell_type": "code",
   "execution_count": null,
   "id": "6b5ff1f3",
   "metadata": {},
   "outputs": [],
   "source": [
    "## Answer\n",
    "\n",
    "-- This query will process 310.24 MB when run.\n",
    "SELECT PULocationID, DOLocationID\n",
    "FROM zoomcamp.yellow_trip_data_regular"
   ]
  },
  {
   "cell_type": "markdown",
   "id": "d2ace9ce",
   "metadata": {},
   "source": [
    "## Question 4\n",
    "\n",
    "How many records have a fare_amount of 0?\n",
    "\n",
    "- 128,210\n",
    "- 546,578\n",
    "- 20,188,016\n",
    "- **8,333**"
   ]
  },
  {
   "cell_type": "code",
   "execution_count": null,
   "id": "8179d293",
   "metadata": {},
   "outputs": [],
   "source": [
    "## Answer\n",
    "\n",
    "SELECT count(*) -- 8 333\n",
    "FROM zoomcamp.yellow_trip_data_regular\n",
    "where fare_amount = 0"
   ]
  },
  {
   "cell_type": "markdown",
   "id": "a32d56c0",
   "metadata": {},
   "source": [
    "## Question 5\n",
    "\n",
    "What is the best strategy to make an optimized table in Big Query if your query will always filter based on tpep_dropoff_datetime and order the results by VendorID (Create a new table with this strategy)\n",
    "\n",
    "- **Partition by tpep_dropoff_datetime and Cluster on VendorID**\n",
    "- Cluster on by tpep_dropoff_datetime and Cluster on VendorID\n",
    "- Cluster on tpep_dropoff_datetime Partition by VendorID\n",
    "- Partition by tpep_dropoff_datetime and Partition by VendorID"
   ]
  },
  {
   "cell_type": "code",
   "execution_count": null,
   "id": "acf1a445",
   "metadata": {},
   "outputs": [],
   "source": [
    "## Answer\n",
    "\n",
    "CREATE OR REPLACE TABLE `zoomcamp.yellow_trip_data_partitioned`\n",
    "PARTITION BY DATE(tpep_dropoff_datetime)\n",
    "CLUSTER BY vendorID AS (\n",
    "  SELECT * FROM `zoomcamp.yellow_trip_data`\n",
    ");"
   ]
  },
  {
   "cell_type": "markdown",
   "id": "f5e43c19",
   "metadata": {},
   "source": [
    "## Question 6\n",
    "\n",
    "Write a query to retrieve the distinct VendorIDs between tpep_dropoff_datetime 2024-03-01 and 2024-03-15 (inclusive)\n",
    "\n",
    "Use the materialized table you created earlier in your from clause and note the estimated bytes. Now change the table in the from clause to the partitioned table you created for question 5 and note the estimated bytes processed. What are these values?\n",
    "\n",
    "Choose the answer which most closely matches.\n",
    "\n",
    "- 12.47 MB for non-partitioned table and 326.42 MB for the partitioned table\n",
    "- **310.24 MB for non-partitioned table and 26.84 MB for the partitioned table**\n",
    "- 5.87 MB for non-partitioned table and 0 MB for the partitioned table\n",
    "- 310.31 MB for non-partitioned table and 285.64 MB for the partitioned table"
   ]
  },
  {
   "cell_type": "code",
   "execution_count": null,
   "id": "bcae2ba7",
   "metadata": {},
   "outputs": [],
   "source": [
    "## Answer\n",
    "\n",
    "-- Bytes processed 310.24 MB\n",
    "-- This query will process 310.24 MB when run\n",
    "select distinct VendorID\n",
    "from zoomcamp.yellow_trip_data_regular\n",
    "where date(tpep_dropoff_datetime) between date('2024-03-01') and date('2024-03-15')\n",
    "\n",
    "-- Bytes processed 26.84 MB\n",
    "-- This query will process 26.84 MB when run\n",
    "select distinct VendorID\n",
    "from `zoomcamp.yellow_trip_data_partitioned`\n",
    "where date(tpep_dropoff_datetime) between date('2024-03-01') and date('2024-03-15')"
   ]
  },
  {
   "cell_type": "markdown",
   "id": "6428af52",
   "metadata": {},
   "source": [
    "## Question 7\n",
    "\n",
    "Where is the data stored in the External Table you created?\n",
    "\n",
    "- Big Query\n",
    "- Container Registry\n",
    "- **GCP Bucket**\n",
    "- Big Table"
   ]
  },
  {
   "cell_type": "code",
   "execution_count": null,
   "id": "148d7f17",
   "metadata": {},
   "outputs": [],
   "source": [
    "## Answer\n",
    "\n",
    "External data configuration\n",
    "Source URI(s) gs://de-zoomcamp-ainapalma/yellow_tripdata_2024-*.parquet"
   ]
  },
  {
   "cell_type": "markdown",
   "id": "14e87de1",
   "metadata": {},
   "source": [
    "## Question 8\n",
    "\n",
    "It is best practice in Big Query to always cluster your data:\n",
    "\n",
    "- True\n",
    "- **False**"
   ]
  },
  {
   "cell_type": "code",
   "execution_count": null,
   "id": "423ee20b",
   "metadata": {},
   "outputs": [],
   "source": [
    "## Answer\n",
    "\n",
    "Sometimes partitionting is better and sometimes nothing at all"
   ]
  },
  {
   "cell_type": "markdown",
   "id": "00c9fb0b",
   "metadata": {},
   "source": [
    "## Question 9 (Bonus: Not worth points)\n",
    "\n",
    "No Points: Write a SELECT count(*) query FROM the materialized table you created. How many bytes does it estimate will be read? Why?"
   ]
  },
  {
   "cell_type": "code",
   "execution_count": null,
   "id": "24b54648",
   "metadata": {},
   "outputs": [],
   "source": [
    "## Answer\n",
    "\n",
    "-- This query will process 0 B when run because it's cashed\n",
    "SELECT count(*)\n",
    "FROM `zoomcamp.yellow_trip_data_regular`"
   ]
  },
  {
   "cell_type": "code",
   "execution_count": null,
   "id": "4fb4e4b3",
   "metadata": {},
   "outputs": [],
   "source": []
  },
  {
   "cell_type": "code",
   "execution_count": null,
   "id": "82673a42",
   "metadata": {},
   "outputs": [],
   "source": []
  },
  {
   "cell_type": "code",
   "execution_count": null,
   "id": "48bfee84",
   "metadata": {},
   "outputs": [],
   "source": []
  },
  {
   "cell_type": "code",
   "execution_count": null,
   "id": "cf1fecd2",
   "metadata": {},
   "outputs": [],
   "source": []
  }
 ],
 "metadata": {
  "kernelspec": {
   "display_name": "Python 3 (ipykernel)",
   "language": "python",
   "name": "python3"
  },
  "language_info": {
   "codemirror_mode": {
    "name": "ipython",
    "version": 3
   },
   "file_extension": ".py",
   "mimetype": "text/x-python",
   "name": "python",
   "nbconvert_exporter": "python",
   "pygments_lexer": "ipython3",
   "version": "3.9.13"
  }
 },
 "nbformat": 4,
 "nbformat_minor": 5
}
