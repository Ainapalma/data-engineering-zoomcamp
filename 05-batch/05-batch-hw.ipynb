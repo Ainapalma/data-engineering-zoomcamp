{
 "cells": [
  {
   "cell_type": "code",
   "execution_count": 2,
   "id": "f52ec1d9",
   "metadata": {},
   "outputs": [],
   "source": [
    "import pyspark\n",
    "from pyspark.sql import SparkSession"
   ]
  },
  {
   "cell_type": "code",
   "execution_count": 106,
   "id": "63308a16",
   "metadata": {},
   "outputs": [],
   "source": [
    "from pyspark.sql import functions as F\n",
    "from pyspark.sql.functions import col, lit, unix_timestamp"
   ]
  },
  {
   "cell_type": "code",
   "execution_count": 4,
   "id": "01e617df",
   "metadata": {},
   "outputs": [
    {
     "name": "stdout",
     "output_type": "stream",
     "text": [
      "--2025-03-03 22:13:04--  https://d37ci6vzurychx.cloudfront.net/trip-data/yellow_tripdata_2024-10.parquet\n",
      "Распознаётся d37ci6vzurychx.cloudfront.net (d37ci6vzurychx.cloudfront.net)… 2600:9000:244f:1000:b:20a5:b140:21, 2600:9000:244f:c600:b:20a5:b140:21, 2600:9000:244f:2800:b:20a5:b140:21, ...\n",
      "Подключение к d37ci6vzurychx.cloudfront.net (d37ci6vzurychx.cloudfront.net)|2600:9000:244f:1000:b:20a5:b140:21|:443... соединение установлено.\n",
      "HTTP-запрос отправлен. Ожидание ответа… 200 OK\n",
      "Длина: 64346071 (61M) [binary/octet-stream]\n",
      "Сохранение в: «yellow_tripdata_2024-10.parquet»\n",
      "\n",
      "yellow_tripdata_202 100%[===================>]  61,36M  22,7MB/s    за 2,7s    \n",
      "\n",
      "2025-03-03 22:13:07 (22,7 MB/s) - «yellow_tripdata_2024-10.parquet» сохранён [64346071/64346071]\n",
      "\n"
     ]
    }
   ],
   "source": [
    "!wget https://d37ci6vzurychx.cloudfront.net/trip-data/yellow_tripdata_2024-10.parquet"
   ]
  },
  {
   "cell_type": "markdown",
   "id": "f9f09222",
   "metadata": {},
   "source": [
    "## Question 1: Install Spark and PySpark\n",
    "\n",
    "- Install Spark\n",
    "- Run PySpark\n",
    "- Create a local spark session\n",
    "- Execute spark.version.\n",
    "\n",
    "What's the output?"
   ]
  },
  {
   "cell_type": "code",
   "execution_count": 7,
   "id": "0c5d5757",
   "metadata": {},
   "outputs": [
    {
     "name": "stderr",
     "output_type": "stream",
     "text": [
      "25/03/03 22:14:58 WARN Utils: Your hostname, Ainas-MacBook-Air.local resolves to a loopback address: 127.0.0.1; using 192.168.178.218 instead (on interface en0)\n",
      "25/03/03 22:14:58 WARN Utils: Set SPARK_LOCAL_IP if you need to bind to another address\n",
      "Setting default log level to \"WARN\".\n",
      "To adjust logging level use sc.setLogLevel(newLevel). For SparkR, use setLogLevel(newLevel).\n",
      "25/03/03 22:14:58 WARN NativeCodeLoader: Unable to load native-hadoop library for your platform... using builtin-java classes where applicable\n"
     ]
    }
   ],
   "source": [
    "spark = SparkSession.builder \\\n",
    "    .master(\"local[*]\") \\\n",
    "    .appName('DE Zoomcamp Hw 5') \\\n",
    "    .getOrCreate()"
   ]
  },
  {
   "cell_type": "code",
   "execution_count": 9,
   "id": "14cfe554",
   "metadata": {},
   "outputs": [
    {
     "data": {
      "text/plain": [
       "'3.5.5'"
      ]
     },
     "execution_count": 9,
     "metadata": {},
     "output_type": "execute_result"
    }
   ],
   "source": [
    "spark.version"
   ]
  },
  {
   "cell_type": "markdown",
   "id": "b609d2d2",
   "metadata": {},
   "source": [
    "## Question 2: Yellow October 2024\n",
    "\n",
    "Read the October 2024 Yellow into a Spark Dataframe.\n",
    "\n",
    "Repartition the Dataframe to 4 partitions and save it to parquet.\n",
    "\n",
    "What is the average size of the Parquet (ending with .parquet extension) Files that were created (in MB)? Select the answer which most closely matches.\n",
    "\n",
    "- 6MB\n",
    "- **25MB**\n",
    "- 75MB\n",
    "- 100MB"
   ]
  },
  {
   "cell_type": "code",
   "execution_count": 12,
   "id": "eccb9573",
   "metadata": {},
   "outputs": [
    {
     "name": "stderr",
     "output_type": "stream",
     "text": [
      "\r",
      "[Stage 0:>                                                          (0 + 1) / 1]\r",
      "\r",
      "                                                                                \r"
     ]
    }
   ],
   "source": [
    "df = spark.read.parquet('yellow_tripdata_2024-10.parquet')"
   ]
  },
  {
   "cell_type": "code",
   "execution_count": 16,
   "id": "557406b5",
   "metadata": {},
   "outputs": [
    {
     "name": "stdout",
     "output_type": "stream",
     "text": [
      "+--------+--------------------+---------------------+---------------+-------------+----------+------------------+------------+------------+------------+-----------+-----+-------+----------+------------+---------------------+------------+--------------------+-----------+\n",
      "|VendorID|tpep_pickup_datetime|tpep_dropoff_datetime|passenger_count|trip_distance|RatecodeID|store_and_fwd_flag|PULocationID|DOLocationID|payment_type|fare_amount|extra|mta_tax|tip_amount|tolls_amount|improvement_surcharge|total_amount|congestion_surcharge|Airport_fee|\n",
      "+--------+--------------------+---------------------+---------------+-------------+----------+------------------+------------+------------+------------+-----------+-----+-------+----------+------------+---------------------+------------+--------------------+-----------+\n",
      "|       2| 2024-10-01 00:30:44|  2024-10-01 00:48:26|              1|          3.0|         1|                 N|         162|         246|           1|       18.4|  1.0|    0.5|       1.5|         0.0|                  1.0|        24.9|                 2.5|        0.0|\n",
      "|       1| 2024-10-01 00:12:20|  2024-10-01 00:25:25|              1|          2.2|         1|                 N|          48|         236|           1|       14.2|  3.5|    0.5|       3.8|         0.0|                  1.0|        23.0|                 2.5|        0.0|\n",
      "+--------+--------------------+---------------------+---------------+-------------+----------+------------------+------------+------------+------------+-----------+-----+-------+----------+------------+---------------------+------------+--------------------+-----------+\n",
      "only showing top 2 rows\n",
      "\n"
     ]
    }
   ],
   "source": [
    "df.show(2)"
   ]
  },
  {
   "cell_type": "code",
   "execution_count": 19,
   "id": "4779621e",
   "metadata": {},
   "outputs": [
    {
     "name": "stderr",
     "output_type": "stream",
     "text": [
      "                                                                                \r"
     ]
    }
   ],
   "source": [
    "df.repartition(4).write.parquet('yellow_tripdata_2024-10_repartitioned/') "
   ]
  },
  {
   "cell_type": "code",
   "execution_count": 23,
   "id": "664fcd70",
   "metadata": {},
   "outputs": [
    {
     "name": "stdout",
     "output_type": "stream",
     "text": [
      "total 183496\r\n",
      "-rw-r--r--  1 palma  staff     0B  3 мар 22:20 _SUCCESS\r\n",
      "-rw-r--r--  1 palma  staff    22M  3 мар 22:20 part-00000-d1bcf478-902e-4b0d-afc1-51784e641e95-c000.snappy.parquet\r\n",
      "-rw-r--r--  1 palma  staff    22M  3 мар 22:20 part-00001-d1bcf478-902e-4b0d-afc1-51784e641e95-c000.snappy.parquet\r\n",
      "-rw-r--r--  1 palma  staff    22M  3 мар 22:20 part-00002-d1bcf478-902e-4b0d-afc1-51784e641e95-c000.snappy.parquet\r\n",
      "-rw-r--r--  1 palma  staff    22M  3 мар 22:20 part-00003-d1bcf478-902e-4b0d-afc1-51784e641e95-c000.snappy.parquet\r\n"
     ]
    }
   ],
   "source": [
    "!ls -lh yellow_tripdata_2024-10_repartitioned/"
   ]
  },
  {
   "cell_type": "markdown",
   "id": "3a18fcc7",
   "metadata": {},
   "source": [
    "## Question 3: Count records\n",
    "\n",
    "How many taxi trips were there on the 15th of October?\n",
    "\n",
    "Consider only trips that started on the 15th of October.\n",
    "\n",
    "- 85,567\n",
    "- 105,567\n",
    "- **125,567**\n",
    "- 145,567"
   ]
  },
  {
   "cell_type": "code",
   "execution_count": 28,
   "id": "7407992e",
   "metadata": {},
   "outputs": [
    {
     "data": {
      "text/plain": [
       "128893"
      ]
     },
     "execution_count": 28,
     "metadata": {},
     "output_type": "execute_result"
    }
   ],
   "source": [
    "df \\\n",
    ".filter('date(tpep_pickup_datetime) = date(\"2024-10-15\")') \\\n",
    ".count()"
   ]
  },
  {
   "cell_type": "markdown",
   "id": "4bd3d0f8",
   "metadata": {},
   "source": [
    "## Question 4: Longest trip\n",
    "\n",
    "What is the length of the longest trip in the dataset in hours?\n",
    "\n",
    "- 122\n",
    "- 142\n",
    "- **162**\n",
    "- 182"
   ]
  },
  {
   "cell_type": "code",
   "execution_count": 107,
   "id": "d6c5eca5",
   "metadata": {},
   "outputs": [],
   "source": [
    "df = df \\\n",
    ".filter('date(tpep_pickup_datetime) >= date(\"2024-10-01\") and date(tpep_dropoff_datetime) <= date(\"2024-10-31\")') \\\n",
    ".withColumn('trip_duration', col('tpep_dropoff_datetime') - col('tpep_pickup_datetime')) \\\n",
    ".withColumn(\"diff_in_hours\", (unix_timestamp(\"tpep_dropoff_datetime\") - unix_timestamp(\"tpep_pickup_datetime\")) / 3600)"
   ]
  },
  {
   "cell_type": "code",
   "execution_count": 118,
   "id": "58be52ba",
   "metadata": {},
   "outputs": [
    {
     "name": "stdout",
     "output_type": "stream",
     "text": [
      "+-----------------------------------+-----------------+\n",
      "|max_trip_duration                  |max_diff_in_hours|\n",
      "+-----------------------------------+-----------------+\n",
      "|INTERVAL '6 18:37:04' DAY TO SECOND|162              |\n",
      "+-----------------------------------+-----------------+\n",
      "\n"
     ]
    }
   ],
   "source": [
    "df.agg(\n",
    "    F.max('trip_duration').alias('max_trip_duration'),\n",
    "    F.max('diff_in_hours').cast('int').alias('max_diff_in_hours')\n",
    ").show(1,False)"
   ]
  },
  {
   "cell_type": "code",
   "execution_count": 119,
   "id": "bcaa6bd7",
   "metadata": {},
   "outputs": [
    {
     "name": "stderr",
     "output_type": "stream",
     "text": [
      "[Stage 87:======================================>                   (2 + 1) / 3]\r"
     ]
    },
    {
     "name": "stdout",
     "output_type": "stream",
     "text": [
      "+--------------------+---------------------+-----------------------------------+------------------+\n",
      "|tpep_pickup_datetime|tpep_dropoff_datetime|trip_duration                      |diff_in_hours     |\n",
      "+--------------------+---------------------+-----------------------------------+------------------+\n",
      "|2024-10-16 13:03:49 |2024-10-23 07:40:53  |INTERVAL '6 18:37:04' DAY TO SECOND|162.61777777777777|\n",
      "+--------------------+---------------------+-----------------------------------+------------------+\n",
      "\n"
     ]
    },
    {
     "name": "stderr",
     "output_type": "stream",
     "text": [
      "\r",
      "                                                                                \r"
     ]
    }
   ],
   "source": [
    "df.select(\n",
    "    'tpep_pickup_datetime',\n",
    "    'tpep_dropoff_datetime',\n",
    "    'trip_duration',\n",
    "    'diff_in_hours'\n",
    ") \\\n",
    ".filter(col('trip_duration').cast('string') == lit(\"INTERVAL '6 18:37:04' DAY TO SECOND\")) \\\n",
    ".show(1,False)"
   ]
  },
  {
   "cell_type": "markdown",
   "id": "328d2a7e",
   "metadata": {},
   "source": [
    "## Question 5: User Interface\n",
    "\n",
    "Spark’s User Interface which shows the application's dashboard runs on which local port?\n",
    "\n",
    "- 80\n",
    "- 443\n",
    "- **4040**\n",
    "- 8080"
   ]
  },
  {
   "cell_type": "code",
   "execution_count": null,
   "id": "ef9032ec",
   "metadata": {},
   "outputs": [],
   "source": [
    "http://localhost:4040/jobs/"
   ]
  },
  {
   "cell_type": "markdown",
   "id": "d8aff011",
   "metadata": {},
   "source": [
    "## Question 6: Least frequent pickup location zone\n",
    "\n",
    "Load the zone lookup data into a temp view in Spark:\n",
    "\n",
    "wget https://d37ci6vzurychx.cloudfront.net/misc/taxi_zone_lookup.csv\n",
    "\n",
    "Using the zone lookup data and the Yellow October 2024 data, what is the name of the LEAST frequent pickup location Zone?\n",
    "\n",
    "- **Governor's Island/Ellis Island/Liberty Island**\n",
    "- Arden Heights\n",
    "- Rikers Island\n",
    "- Jamaica Bay"
   ]
  },
  {
   "cell_type": "code",
   "execution_count": 84,
   "id": "d21ca88e",
   "metadata": {},
   "outputs": [
    {
     "name": "stdout",
     "output_type": "stream",
     "text": [
      "--2025-03-03 23:08:20--  https://d37ci6vzurychx.cloudfront.net/misc/taxi_zone_lookup.csv\n",
      "Распознаётся d37ci6vzurychx.cloudfront.net (d37ci6vzurychx.cloudfront.net)… 2600:9000:244f:7200:b:20a5:b140:21, 2600:9000:244f:2800:b:20a5:b140:21, 2600:9000:244f:9e00:b:20a5:b140:21, ...\n",
      "Подключение к d37ci6vzurychx.cloudfront.net (d37ci6vzurychx.cloudfront.net)|2600:9000:244f:7200:b:20a5:b140:21|:443... соединение установлено.\n",
      "HTTP-запрос отправлен. Ожидание ответа… 200 OK\n",
      "Длина: 12331 (12K) [text/csv]\n",
      "Сохранение в: «taxi_zone_lookup.csv»\n",
      "\n",
      "taxi_zone_lookup.cs 100%[===================>]  12,04K  --.-KB/s    за 0s      \n",
      "\n",
      "2025-03-03 23:08:20 (3,83 GB/s) - «taxi_zone_lookup.csv» сохранён [12331/12331]\n",
      "\n"
     ]
    }
   ],
   "source": [
    "!wget https://d37ci6vzurychx.cloudfront.net/misc/taxi_zone_lookup.csv"
   ]
  },
  {
   "cell_type": "code",
   "execution_count": 125,
   "id": "19ad678e",
   "metadata": {},
   "outputs": [],
   "source": [
    "df_taxi_zone_lookup = spark.read.option('header', 'true').csv('taxi_zone_lookup.csv')"
   ]
  },
  {
   "cell_type": "code",
   "execution_count": 126,
   "id": "a251b721",
   "metadata": {},
   "outputs": [],
   "source": [
    "df_taxi_zone_lookup.createOrReplaceTempView('taxi_zone_lookup')"
   ]
  },
  {
   "cell_type": "code",
   "execution_count": 129,
   "id": "0bee3ff3",
   "metadata": {},
   "outputs": [
    {
     "name": "stdout",
     "output_type": "stream",
     "text": [
      "+----------+-------------+--------------------+------------+\n",
      "|LocationID|      Borough|                Zone|service_zone|\n",
      "+----------+-------------+--------------------+------------+\n",
      "|         1|          EWR|      Newark Airport|         EWR|\n",
      "|         2|       Queens|         Jamaica Bay|   Boro Zone|\n",
      "|         3|        Bronx|Allerton/Pelham G...|   Boro Zone|\n",
      "|         4|    Manhattan|       Alphabet City| Yellow Zone|\n",
      "|         5|Staten Island|       Arden Heights|   Boro Zone|\n",
      "+----------+-------------+--------------------+------------+\n",
      "only showing top 5 rows\n",
      "\n"
     ]
    }
   ],
   "source": [
    "spark.sql('''\n",
    "    select *\n",
    "    from taxi_zone_lookup\n",
    "''').show(5)"
   ]
  },
  {
   "cell_type": "code",
   "execution_count": 128,
   "id": "171c9008",
   "metadata": {},
   "outputs": [],
   "source": [
    "df.createOrReplaceTempView('yellow_taxi')"
   ]
  },
  {
   "cell_type": "code",
   "execution_count": 138,
   "id": "0f0b08de",
   "metadata": {},
   "outputs": [
    {
     "name": "stdout",
     "output_type": "stream",
     "text": [
      "+---------------------------------------------+---------+\n",
      "|Zone                                         |trips_cnt|\n",
      "+---------------------------------------------+---------+\n",
      "|Governor's Island/Ellis Island/Liberty Island|1        |\n",
      "|Rikers Island                                |2        |\n",
      "|Arden Heights                                |2        |\n",
      "|Jamaica Bay                                  |3        |\n",
      "|Green-Wood Cemetery                          |3        |\n",
      "+---------------------------------------------+---------+\n",
      "only showing top 5 rows\n",
      "\n"
     ]
    }
   ],
   "source": [
    "spark.sql('''\n",
    "    select\n",
    "        Zone,\n",
    "        count(*) as trips_cnt\n",
    "    from yellow_taxi yt\n",
    "    left join taxi_zone_lookup tzl\n",
    "    where yt.PULocationID = tzl.LocationID\n",
    "    group by Zone\n",
    "    order by count(*)\n",
    "''').show(5, False)"
   ]
  },
  {
   "cell_type": "code",
   "execution_count": null,
   "id": "deb980c2",
   "metadata": {},
   "outputs": [],
   "source": []
  },
  {
   "cell_type": "code",
   "execution_count": null,
   "id": "48317ef6",
   "metadata": {},
   "outputs": [],
   "source": []
  }
 ],
 "metadata": {
  "kernelspec": {
   "display_name": "Python 3 (ipykernel)",
   "language": "python",
   "name": "python3"
  },
  "language_info": {
   "codemirror_mode": {
    "name": "ipython",
    "version": 3
   },
   "file_extension": ".py",
   "mimetype": "text/x-python",
   "name": "python",
   "nbconvert_exporter": "python",
   "pygments_lexer": "ipython3",
   "version": "3.9.21"
  }
 },
 "nbformat": 4,
 "nbformat_minor": 5
}
